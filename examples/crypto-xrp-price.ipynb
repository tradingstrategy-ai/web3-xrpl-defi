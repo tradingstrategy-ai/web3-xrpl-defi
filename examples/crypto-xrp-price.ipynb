{
 "cells": [
  {
   "cell_type": "markdown",
   "id": "944b1fa6",
   "metadata": {},
   "source": [
    "# XRP AMM price feed example\n",
    "\n",
    "This is a tutorial notebook showing how to get a price feed for XRP Ledger's native AMM.\n",
    "\n",
    "- In this example we get full historical price feeds for CRYPTO/XRP pair and XRP/USD pairs\n",
    "- The notebook loads a lot of data on the first time, but subsequent runs are faster\n",
    "\n",
    "See README for instructions on how to run.\n"
   ]
  },
  {
   "cell_type": "markdown",
   "id": "873be04e",
   "metadata": {},
   "source": [
    "## Setup \n",
    "\n",
    "Creating a JSON-RPC client.\n",
    "\n"
   ]
  },
  {
   "cell_type": "code",
   "execution_count": null,
   "id": "8313dfff",
   "metadata": {},
   "outputs": [],
   "source": [
    "from xrpl.clients import JsonRpcClient\n",
    "from xrpl_defi.ledger import get_latest_ledger_index\n",
    "\n",
    "JSON_RPC_URL = \"https://xrplcluster.com/\"\n",
    "client = JsonRpcClient(JSON_RPC_URL)\n",
    "\n",
    "print(f\"Connected to XRPL JSON-RPC client at {JSON_RPC_URL}, latest ledger index: {get_latest_ledger_index(client):,}\")"
   ]
  },
  {
   "cell_type": "markdown",
   "id": "b359f07a",
   "metadata": {},
   "source": [
    "# Markets\n",
    "\n",
    "- Choose markets to scan\n",
    "- [Explore in ]()"
   ]
  },
  {
   "cell_type": "code",
   "execution_count": null,
   "id": "43e36532",
   "metadata": {},
   "outputs": [],
   "source": [
    "AMM_MARKETS = [\n",
    "    \"XRP-USD\",\n",
    "    \"XRP-EUR\",\n",
    "    \"XRP-GBP\",\n",
    "]"
   ]
  }
 ],
 "metadata": {
  "language_info": {
   "name": "python"
  }
 },
 "nbformat": 4,
 "nbformat_minor": 5
}

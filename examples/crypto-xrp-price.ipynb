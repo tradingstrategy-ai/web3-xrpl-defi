{
 "cells": [
  {
   "cell_type": "markdown",
   "id": "944b1fa6",
   "metadata": {},
   "source": [
    "# XRP AMM price feed example\n",
    "\n",
    "This is a tutorial notebook showing how to get a price feed for XRP Ledger's native AMM.\n",
    "\n",
    "- In this example we get full historical price feeds for CRYPTO/XRP pair and XRP/USD pairs\n",
    "- The notebook loads a lot of data on the first time, but subsequent runs are faster\n",
    "- You cannot run this against public XRPL JSON-RPC nodes because they rate limit too much, get a node from QuikNode\n",
    "\n",
    "See README for instructions on how to run.\n"
   ]
  },
  {
   "cell_type": "markdown",
   "id": "873be04e",
   "metadata": {},
   "source": [
    "## Setup \n",
    "\n",
    "Creating a JSON-RPC client.\n",
    "\n"
   ]
  },
  {
   "cell_type": "code",
   "execution_count": 1,
   "id": "8313dfff",
   "metadata": {},
   "outputs": [
    {
     "name": "stdout",
     "output_type": "stream",
     "text": [
      "Connected to XRPL JSON-RPC client at https://still-few-isle.xrp-mai..., latest ledger index: 97,359,099\n"
     ]
    }
   ],
   "source": [
    "from pathlib import Path\n",
    "from xrpl.clients import JsonRpcClient\n",
    "from xrpl_defi.ledger import get_latest_ledger_index\n",
    "from xrpl_defi.utils.log import setup_console_logging\n",
    "\n",
    "setup_console_logging()\n",
    "\n",
    "# xrpl-py has a bad behavior of creating a hideen asyncio event loop,\n",
    "# which does not work well in Jupyter notebooks..\n",
    "# We use this hack to get around this behaviour.\n",
    "import nest_asyncio\n",
    "nest_asyncio.apply()\n",
    "\n",
    "# Ask user to give the API key secret\n",
    "settings_file = Path.home() / \".config\" / \"xrpl_defi\" / \"api-key.txt\"\n",
    "if not settings_file.exists():\n",
    "    api_key = input(\"Enter your XRPL JSON-RPC node URL key: \")\n",
    "    settings_file.parent.mkdir(parents=True, exist_ok=True)\n",
    "    with open(settings_file, \"w\") as f:\n",
    "        f.write(api_key)\n",
    "else:\n",
    "    api_key = settings_file.read_text().strip()\n",
    "\n",
    "client = JsonRpcClient(api_key)\n",
    "\n",
    "print(f\"Connected to XRPL JSON-RPC client at {api_key[0:30]}..., latest ledger index: {get_latest_ledger_index(client):,}\")"
   ]
  },
  {
   "cell_type": "markdown",
   "id": "b359f07a",
   "metadata": {},
   "source": [
    "# Markets\n",
    "\n",
    "- Choose markets to scan\n",
    "- [Explore markets in XRPScan](https://xrpscan.com/amms)"
   ]
  },
  {
   "cell_type": "code",
   "execution_count": 2,
   "id": "43e36532",
   "metadata": {},
   "outputs": [],
   "source": [
    "AMM_MARKETS = [\n",
    "    \"rLjUKpwUVmz3vCTmFkXungxwzdoyrWRsFG\",  # CRYPTO-XRP\n",
    "    \"rhWTXC2m2gGGA9WozUaoMm6kLAVPb1tcS3\",  # RLUSD-XRP\n",
    "]"
   ]
  },
  {
   "cell_type": "markdown",
   "id": "298c90be",
   "metadata": {},
   "source": [
    "## Fetch data\n",
    "\n",
    "- Fetch data for all markets and store locally cached for the future runs"
   ]
  },
  {
   "cell_type": "code",
   "execution_count": null,
   "id": "9e9f806d",
   "metadata": {},
   "outputs": [
    {
     "name": "stdout",
     "output_type": "stream",
     "text": [
      "Loading trades data from cache: /Users/moo/.cache/xrpl-defi/amm-data.parquet\n"
     ]
    }
   ],
   "source": [
    "from pathlib import Path\n",
    "import pandas as pd\n",
    "from xrpl_defi.markets.amm import fetch_amm_historical_payment_and_balances, prepare_amm_data\n",
    "\n",
    "CACHE_PATH = Path.home() / \".cache\" /  \"xrpl-defi\"\n",
    "CACHE_PATH.mkdir(parents=True, exist_ok=True)\n",
    "TRADES_CACHE_FILE = CACHE_PATH / \"amm-data.parquet\"\n",
    "\n",
    "# Don't download full data (takes too long), just first trades\n",
    "# MAX_LEDGER_INDEX = 87_544_747\n",
    "MAX_LEDGER_INDEX = None  # To the tip of XRP ledger\n",
    "MIN_LEDGER_INDEX = 95_000_000  # Ledger index to start fetching data from\n",
    "\n",
    "if not TRADES_CACHE_FILE.exists():\n",
    "\n",
    "    all_markets_df = None\n",
    "\n",
    "    for market in AMM_MARKETS:\n",
    "        print(f\"Fetching trades for market {market}...\")\n",
    "        payment_tx_iter = fetch_amm_historical_payment_and_balances(\n",
    "            client=client,\n",
    "            account=market,\n",
    "            min_ledger_index=MIN_LEDGER_INDEX,\n",
    "            max_ledger_index=MAX_LEDGER_INDEX,\n",
    "        )\n",
    "        payment_txs = list(payment_tx_iter)\n",
    "        print(f\"Fetched {len(payment_txs)} txs for market {market}.\")\n",
    "\n",
    "        df = prepare_amm_data(payment_txs)\n",
    "\n",
    "        if all_markets_df is None:\n",
    "            all_markets_df = df \n",
    "        else:\n",
    "            all_markets_df = pd.concat([all_markets_df, df], ignore_index=True)\n",
    "        \n",
    "    all_markets_df.to_parquet(TRADES_CACHE_FILE, compression=\"zstd\")\n",
    "    print(f\"Trades data saved to {TRADES_CACHE_FILE}, size is {TRADES_CACHE_FILE.stat().st_size / 1024 / 1024:.2f} MB.\")\n",
    "\n",
    "else:\n",
    "    # Use cached data\n",
    "    print(f\"Loading trades data from cache: {TRADES_CACHE_FILE}\")\n",
    "    all_markets_df = pd.read_parquet(TRADES_CACHE_FILE)\n",
    "\n",
    "\n",
    "df = all_markets_df"
   ]
  },
  {
   "cell_type": "markdown",
   "id": "cc66ac3a",
   "metadata": {},
   "source": [
    "# Explore data\n",
    "\n",
    "- Show the first data entries"
   ]
  },
  {
   "cell_type": "code",
   "execution_count": 8,
   "id": "c1b9617c",
   "metadata": {},
   "outputs": [
    {
     "name": "stdout",
     "output_type": "stream",
     "text": [
      "We have markets: ['rhWTXC2m2gGGA9WozUaoMm6kLAVPb1tcS3']\n"
     ]
    },
    {
     "data": {
      "text/html": [
       "<div>\n",
       "<style scoped>\n",
       "    .dataframe tbody tr th:only-of-type {\n",
       "        vertical-align: middle;\n",
       "    }\n",
       "\n",
       "    .dataframe tbody tr th {\n",
       "        vertical-align: top;\n",
       "    }\n",
       "\n",
       "    .dataframe thead th {\n",
       "        text-align: right;\n",
       "    }\n",
       "</style>\n",
       "<table border=\"1\" class=\"dataframe\">\n",
       "  <thead>\n",
       "    <tr style=\"text-align: right;\">\n",
       "      <th></th>\n",
       "      <th>timestamp</th>\n",
       "      <th>tx_hash</th>\n",
       "      <th>ledger_index</th>\n",
       "      <th>market</th>\n",
       "      <th>amm_asset_1</th>\n",
       "      <th>amm_asset_2</th>\n",
       "      <th>amm_asset_1_amount</th>\n",
       "      <th>amm_asset_2_amount</th>\n",
       "      <th>raw_json</th>\n",
       "    </tr>\n",
       "  </thead>\n",
       "  <tbody>\n",
       "    <tr>\n",
       "      <th>0</th>\n",
       "      <td>2025-03-25 02:42:30+00:00</td>\n",
       "      <td>7887A71C647600BD6E032F7FA81D5CD6D39B24A71969C9...</td>\n",
       "      <td>95000091</td>\n",
       "      <td>rhWTXC2m2gGGA9WozUaoMm6kLAVPb1tcS3</td>\n",
       "      <td>XRP</td>\n",
       "      <td>RLUSD</td>\n",
       "      <td>798,926.599093</td>\n",
       "      <td>1,945,593.736896</td>\n",
       "      <td>{\"meta\": {\"AffectedNodes\": [{\"ModifiedNode\": {...</td>\n",
       "    </tr>\n",
       "    <tr>\n",
       "      <th>1</th>\n",
       "      <td>2025-03-25 04:14:51+00:00</td>\n",
       "      <td>39EAD31C193014981BCB23E78E5D33CD5DB4DA99118D54...</td>\n",
       "      <td>95001515</td>\n",
       "      <td>rhWTXC2m2gGGA9WozUaoMm6kLAVPb1tcS3</td>\n",
       "      <td>XRP</td>\n",
       "      <td>RLUSD</td>\n",
       "      <td>802,298.424632</td>\n",
       "      <td>1,937,332.512639</td>\n",
       "      <td>{\"meta\": {\"AffectedNodes\": [{\"ModifiedNode\": {...</td>\n",
       "    </tr>\n",
       "    <tr>\n",
       "      <th>2</th>\n",
       "      <td>2025-03-25 05:19:20+00:00</td>\n",
       "      <td>C8C0ABDD77E7DF27C8EB6CFF21F45884044FF9E22EC92B...</td>\n",
       "      <td>95002512</td>\n",
       "      <td>rhWTXC2m2gGGA9WozUaoMm6kLAVPb1tcS3</td>\n",
       "      <td>XRP</td>\n",
       "      <td>RLUSD</td>\n",
       "      <td>800,863.826484</td>\n",
       "      <td>1,940,811.517088</td>\n",
       "      <td>{\"meta\": {\"AffectedNodes\": [{\"ModifiedNode\": {...</td>\n",
       "    </tr>\n",
       "    <tr>\n",
       "      <th>3</th>\n",
       "      <td>2025-03-25 06:19:31+00:00</td>\n",
       "      <td>05E0136E17B1D36F0354EC15C7564531312034EC57502B...</td>\n",
       "      <td>95003443</td>\n",
       "      <td>rhWTXC2m2gGGA9WozUaoMm6kLAVPb1tcS3</td>\n",
       "      <td>XRP</td>\n",
       "      <td>RLUSD</td>\n",
       "      <td>799,652.684309</td>\n",
       "      <td>1,943,760.915040</td>\n",
       "      <td>{\"meta\": {\"AffectedNodes\": [{\"ModifiedNode\": {...</td>\n",
       "    </tr>\n",
       "    <tr>\n",
       "      <th>4</th>\n",
       "      <td>2025-03-25 07:22:52+00:00</td>\n",
       "      <td>EFC9E12E4AFE837298F30797C21D3423379B5B81DC16C0...</td>\n",
       "      <td>95004423</td>\n",
       "      <td>rhWTXC2m2gGGA9WozUaoMm6kLAVPb1tcS3</td>\n",
       "      <td>XRP</td>\n",
       "      <td>RLUSD</td>\n",
       "      <td>801,393.816829</td>\n",
       "      <td>1,941,966.470159</td>\n",
       "      <td>{\"meta\": {\"AffectedNodes\": [{\"ModifiedNode\": {...</td>\n",
       "    </tr>\n",
       "  </tbody>\n",
       "</table>\n",
       "</div>"
      ],
      "text/plain": [
       "                  timestamp  \\\n",
       "0 2025-03-25 02:42:30+00:00   \n",
       "1 2025-03-25 04:14:51+00:00   \n",
       "2 2025-03-25 05:19:20+00:00   \n",
       "3 2025-03-25 06:19:31+00:00   \n",
       "4 2025-03-25 07:22:52+00:00   \n",
       "\n",
       "                                             tx_hash  ledger_index  \\\n",
       "0  7887A71C647600BD6E032F7FA81D5CD6D39B24A71969C9...      95000091   \n",
       "1  39EAD31C193014981BCB23E78E5D33CD5DB4DA99118D54...      95001515   \n",
       "2  C8C0ABDD77E7DF27C8EB6CFF21F45884044FF9E22EC92B...      95002512   \n",
       "3  05E0136E17B1D36F0354EC15C7564531312034EC57502B...      95003443   \n",
       "4  EFC9E12E4AFE837298F30797C21D3423379B5B81DC16C0...      95004423   \n",
       "\n",
       "                               market amm_asset_1 amm_asset_2  \\\n",
       "0  rhWTXC2m2gGGA9WozUaoMm6kLAVPb1tcS3         XRP       RLUSD   \n",
       "1  rhWTXC2m2gGGA9WozUaoMm6kLAVPb1tcS3         XRP       RLUSD   \n",
       "2  rhWTXC2m2gGGA9WozUaoMm6kLAVPb1tcS3         XRP       RLUSD   \n",
       "3  rhWTXC2m2gGGA9WozUaoMm6kLAVPb1tcS3         XRP       RLUSD   \n",
       "4  rhWTXC2m2gGGA9WozUaoMm6kLAVPb1tcS3         XRP       RLUSD   \n",
       "\n",
       "   amm_asset_1_amount  amm_asset_2_amount  \\\n",
       "0      798,926.599093    1,945,593.736896   \n",
       "1      802,298.424632    1,937,332.512639   \n",
       "2      800,863.826484    1,940,811.517088   \n",
       "3      799,652.684309    1,943,760.915040   \n",
       "4      801,393.816829    1,941,966.470159   \n",
       "\n",
       "                                            raw_json  \n",
       "0  {\"meta\": {\"AffectedNodes\": [{\"ModifiedNode\": {...  \n",
       "1  {\"meta\": {\"AffectedNodes\": [{\"ModifiedNode\": {...  \n",
       "2  {\"meta\": {\"AffectedNodes\": [{\"ModifiedNode\": {...  \n",
       "3  {\"meta\": {\"AffectedNodes\": [{\"ModifiedNode\": {...  \n",
       "4  {\"meta\": {\"AffectedNodes\": [{\"ModifiedNode\": {...  "
      ]
     },
     "execution_count": 8,
     "metadata": {},
     "output_type": "execute_result"
    }
   ],
   "source": [
    "pd.set_option('display.float_format', '{:,.6f}'.format)\n",
    "\n",
    "print(f\"We have markets: {df['market'].unique()}\")\n",
    "df.head(5)"
   ]
  },
  {
   "cell_type": "markdown",
   "id": "e28e4acc",
   "metadata": {},
   "source": [
    "## Transform to OHLC\n",
    "\n",
    "- Transform raw price events to OHLCV format\n",
    "- Resample up to 1 day time frame\n"
   ]
  },
  {
   "cell_type": "code",
   "execution_count": 7,
   "id": "67e103a8",
   "metadata": {},
   "outputs": [
    {
     "ename": "AssertionError",
     "evalue": "DataFrame is empty",
     "output_type": "error",
     "traceback": [
      "\u001b[31m---------------------------------------------------------------------------\u001b[39m",
      "\u001b[31mAssertionError\u001b[39m                            Traceback (most recent call last)",
      "\u001b[36mCell\u001b[39m\u001b[36m \u001b[39m\u001b[32mIn[7]\u001b[39m\u001b[32m, line 13\u001b[39m\n\u001b[32m     11\u001b[39m \u001b[38;5;66;03m# Apply the function to each group and combine results\u001b[39;00m\n\u001b[32m     12\u001b[39m xrp_rlusd_df = process_market(df.loc[df.market == \u001b[33m\"\u001b[39m\u001b[33mrhWTXC2m2gGGA9WozUaoMm6kLAVPb1tcS3\u001b[39m\u001b[33m\"\u001b[39m], quote_token=\u001b[33m\"\u001b[39m\u001b[33mRLUSD\u001b[39m\u001b[33m\"\u001b[39m)\n\u001b[32m---> \u001b[39m\u001b[32m13\u001b[39m crypto_xrp_df = \u001b[43mprocess_market\u001b[49m\u001b[43m(\u001b[49m\u001b[43mdf\u001b[49m\u001b[43m.\u001b[49m\u001b[43mloc\u001b[49m\u001b[43m[\u001b[49m\u001b[43mdf\u001b[49m\u001b[43m.\u001b[49m\u001b[43mmarket\u001b[49m\u001b[43m \u001b[49m\u001b[43m==\u001b[49m\u001b[43m \u001b[49m\u001b[33;43m\"\u001b[39;49m\u001b[33;43mrLjUKpwUVmz3vCTmFkXungxwzdoyrWRsFG\u001b[39;49m\u001b[33;43m\"\u001b[39;49m\u001b[43m]\u001b[49m\u001b[43m,\u001b[49m\u001b[43m \u001b[49m\u001b[43mquote_token\u001b[49m\u001b[43m=\u001b[49m\u001b[33;43m\"\u001b[39;49m\u001b[33;43mXRP\u001b[39;49m\u001b[33;43m\"\u001b[39;49m\u001b[43m)\u001b[49m\n\u001b[32m     15\u001b[39m \u001b[38;5;66;03m# Create a synthetic data for CYPTO/USD price\u001b[39;00m\n\u001b[32m     16\u001b[39m crypto_usd = crypto_xrp_df / xrp_rlusd_df[\u001b[33m\"\u001b[39m\u001b[33mopen\u001b[39m\u001b[33m\"\u001b[39m]\n",
      "\u001b[36mCell\u001b[39m\u001b[36m \u001b[39m\u001b[32mIn[7]\u001b[39m\u001b[32m, line 5\u001b[39m, in \u001b[36mprocess_market\u001b[39m\u001b[34m(pair_df, quote_token)\u001b[39m\n\u001b[32m      3\u001b[39m \u001b[38;5;28;01mdef\u001b[39;00m\u001b[38;5;250m \u001b[39m\u001b[34mprocess_market\u001b[39m(pair_df, quote_token: \u001b[38;5;28mstr\u001b[39m):\n\u001b[32m      4\u001b[39m \u001b[38;5;250m    \u001b[39m\u001b[33;03m\"\"\"Process a single market's data and return OHLC\"\"\"\u001b[39;00m\n\u001b[32m----> \u001b[39m\u001b[32m5\u001b[39m     price_df = \u001b[43mcalculate_quote_price\u001b[49m\u001b[43m(\u001b[49m\u001b[43mpair_df\u001b[49m\u001b[43m,\u001b[49m\u001b[43m \u001b[49m\u001b[43mquote_token\u001b[49m\u001b[43m)\u001b[49m\n\u001b[32m      6\u001b[39m     price_df = price_df.set_index(\u001b[33m\"\u001b[39m\u001b[33mtimestamp\u001b[39m\u001b[33m\"\u001b[39m)\n\u001b[32m      7\u001b[39m     price_series = price_df[\u001b[33m\"\u001b[39m\u001b[33mquoted_price\u001b[39m\u001b[33m\"\u001b[39m]\n",
      "\u001b[36mFile \u001b[39m\u001b[32m~/code/web3-defi-xrpl/xrpl_defi/markets/price.py:54\u001b[39m, in \u001b[36mcalculate_quote_price\u001b[39m\u001b[34m(df, quote_token)\u001b[39m\n\u001b[32m     36\u001b[39m \u001b[38;5;28;01mdef\u001b[39;00m\u001b[38;5;250m \u001b[39m\u001b[34mcalculate_quote_price\u001b[39m(\n\u001b[32m     37\u001b[39m     df: pd.DataFrame, \n\u001b[32m     38\u001b[39m     quote_token: \u001b[38;5;28mstr\u001b[39m,\n\u001b[32m     39\u001b[39m ) -> pd.DataFrame:\n\u001b[32m     40\u001b[39m \u001b[38;5;250m    \u001b[39m\u001b[33;03m\"\"\"Calculate quote price and swap direction for AMM.\u001b[39;00m\n\u001b[32m     41\u001b[39m \u001b[33;03m    \u001b[39;00m\n\u001b[32m     42\u001b[39m \u001b[33;03m    - We have CRYPTO->XRP and XRP->CRYPTO swaps mixed\u001b[39;00m\n\u001b[32m   (...)\u001b[39m\u001b[32m     51\u001b[39m \u001b[33;03m    :returns: DataFrame with direction and quoted_price columns,\u001b[39;00m\n\u001b[32m     52\u001b[39m \u001b[33;03m    \"\"\"\u001b[39;00m\n\u001b[32m---> \u001b[39m\u001b[32m54\u001b[39m     \u001b[38;5;28;01massert\u001b[39;00m \u001b[38;5;28mlen\u001b[39m(df) > \u001b[32m0\u001b[39m, \u001b[33m\"\u001b[39m\u001b[33mDataFrame is empty\u001b[39m\u001b[33m\"\u001b[39m\n\u001b[32m     56\u001b[39m     \u001b[38;5;28;01massert\u001b[39;00m df[\u001b[33m\"\u001b[39m\u001b[33mamm_asset_1\u001b[39m\u001b[33m\"\u001b[39m].nunique() == \u001b[32m1\u001b[39m, \u001b[33mf\u001b[39m\u001b[33m\"\u001b[39m\u001b[33mExpected single AMM asset 1, got \u001b[39m\u001b[38;5;132;01m{\u001b[39;00mdf[\u001b[33m'\u001b[39m\u001b[33mamm_asset_1\u001b[39m\u001b[33m'\u001b[39m].unique()\u001b[38;5;132;01m}\u001b[39;00m\u001b[33m\"\u001b[39m\n\u001b[32m     57\u001b[39m     \u001b[38;5;28;01massert\u001b[39;00m df[\u001b[33m\"\u001b[39m\u001b[33mamm_asset_2\u001b[39m\u001b[33m\"\u001b[39m].nunique() == \u001b[32m1\u001b[39m, \u001b[33mf\u001b[39m\u001b[33m\"\u001b[39m\u001b[33mExpected single AMM asset 2, got \u001b[39m\u001b[38;5;132;01m{\u001b[39;00mdf[\u001b[33m'\u001b[39m\u001b[33mamm_asset_2\u001b[39m\u001b[33m'\u001b[39m].unique()\u001b[38;5;132;01m}\u001b[39;00m\u001b[33m\"\u001b[39m\n",
      "\u001b[31mAssertionError\u001b[39m: DataFrame is empty"
     ]
    }
   ],
   "source": [
    "from xrpl_defi.markets.price import calculate_quote_price, calculate_ohlc\n",
    "\n",
    "def process_market(pair_df, quote_token: str):\n",
    "    \"\"\"Process a single market's data and return OHLC\"\"\"\n",
    "    price_df = calculate_quote_price(pair_df, quote_token)\n",
    "    price_df = price_df.set_index(\"timestamp\")\n",
    "    price_series = price_df[\"quoted_price\"]\n",
    "    ohlc = calculate_ohlc(price_series, freq=\"1D\")\n",
    "    return ohlc\n",
    "\n",
    "# Apply the function to each group and combine results\n",
    "xrp_rlusd_df = process_market(df.loc[df.market == \"rhWTXC2m2gGGA9WozUaoMm6kLAVPb1tcS3\"], quote_token=\"RLUSD\")\n",
    "crypto_xrp_df = process_market(df.loc[df.market == \"rLjUKpwUVmz3vCTmFkXungxwzdoyrWRsFG\"], quote_token=\"XRP\")\n",
    "\n",
    "# Create a synthetic data for CYPTO/USD price\n",
    "crypto_usd = crypto_xrp_df / xrp_rlusd_df[\"open\"]\n",
    "\n",
    "print(\"Example data\")\n",
    "xrp_rlusd_df.head(5)"
   ]
  },
  {
   "cell_type": "markdown",
   "id": "389295b6",
   "metadata": {},
   "source": [
    "## XRP/RLUSD chart\n",
    "\n",
    "- Draw the price chart"
   ]
  },
  {
   "cell_type": "code",
   "execution_count": null,
   "id": "2ff12992",
   "metadata": {},
   "outputs": [],
   "source": [
    "from xrpl_defi.charts.price_chart import visualise_ohlc\n",
    "\n",
    "\n",
    "fig = visualise_ohlc(xrp_rlusd_df, title=\"XRP / RLUSD\")\n",
    "fig.show()"
   ]
  },
  {
   "cell_type": "markdown",
   "id": "766d0616",
   "metadata": {},
   "source": [
    "## CRYPTO/XRP chart\n",
    "\n",
    "- Draw the price chart"
   ]
  },
  {
   "cell_type": "code",
   "execution_count": null,
   "id": "27a917a2",
   "metadata": {},
   "outputs": [],
   "source": [
    "fig = visualise_ohlc(crypto_xrp_df, title=\"XRP / RLUSD\")\n",
    "fig.show()"
   ]
  },
  {
   "cell_type": "markdown",
   "id": "94191d8e",
   "metadata": {},
   "source": [
    "## CRYPTO/USD chart\n",
    "\n",
    "- Draw CRYPTO/USD price chart, where we use XRP/RLUSD exchange rate as the rate for\n",
    "  XRO quote token conversion"
   ]
  },
  {
   "cell_type": "code",
   "execution_count": null,
   "id": "ac12aafd",
   "metadata": {},
   "outputs": [],
   "source": [
    "fig = visualise_ohlc(crypto_xrp_df, title=\"CRYPTO / USD\")\n",
    "fig.show()"
   ]
  }
 ],
 "metadata": {
  "kernelspec": {
   "display_name": ".venv",
   "language": "python",
   "name": "python3"
  },
  "language_info": {
   "codemirror_mode": {
    "name": "ipython",
    "version": 3
   },
   "file_extension": ".py",
   "mimetype": "text/x-python",
   "name": "python",
   "nbconvert_exporter": "python",
   "pygments_lexer": "ipython3",
   "version": "3.11.10"
  }
 },
 "nbformat": 4,
 "nbformat_minor": 5
}

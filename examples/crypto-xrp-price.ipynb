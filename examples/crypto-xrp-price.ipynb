{
 "cells": [
  {
   "cell_type": "markdown",
   "id": "944b1fa6",
   "metadata": {},
   "source": [
    "# XRP AMM price feed example\n",
    "\n",
    "This is a tutorial notebook showing how to get a price feed for XRP Ledger's native AMM.\n",
    "\n",
    "- In this example we get full historical price feeds for CRYPTO/XRP pair and XRP/USD pairs\n",
    "- The notebook loads a lot of data on the first time, but subsequent runs are faster\n",
    "- You cannot run this against public XRPL JSON-RPC nodes because they rate limit too much, get a node from QuikNode\n",
    "\n",
    "See README for instructions on how to run.\n"
   ]
  },
  {
   "cell_type": "markdown",
   "id": "873be04e",
   "metadata": {},
   "source": [
    "## Setup \n",
    "\n",
    "Creating a JSON-RPC client.\n",
    "\n"
   ]
  },
  {
   "cell_type": "code",
   "execution_count": 1,
   "id": "8313dfff",
   "metadata": {},
   "outputs": [
    {
     "name": "stdout",
     "output_type": "stream",
     "text": [
      "Connected to XRPL JSON-RPC client at https://still-few-isle.xrp-mai..., latest ledger index: 97,358,465\n"
     ]
    }
   ],
   "source": [
    "from pathlib import Path\n",
    "from xrpl.clients import JsonRpcClient\n",
    "from xrpl_defi.ledger import get_latest_ledger_index\n",
    "from xrpl_defi.utils.log import setup_console_logging\n",
    "\n",
    "setup_console_logging()\n",
    "\n",
    "# xrpl-py has a bad behavior of creating a hideen asyncio event loop,\n",
    "# which does not work well in Jupyter notebooks..\n",
    "# We use this hack to get around this behaviour.\n",
    "import nest_asyncio\n",
    "nest_asyncio.apply()\n",
    "\n",
    "# Ask user to give the API key secret\n",
    "settings_file = Path.home() / \".config\" / \"xrpl_defi\" / \"api-key.txt\"\n",
    "if not settings_file.exists():\n",
    "    api_key = input(\"Enter your XRPL JSON-RPC node URL key: \")\n",
    "    settings_file.parent.mkdir(parents=True, exist_ok=True)\n",
    "    with open(settings_file, \"w\") as f:\n",
    "        f.write(api_key)\n",
    "else:\n",
    "    api_key = settings_file.read_text().strip()\n",
    "\n",
    "client = JsonRpcClient(api_key)\n",
    "\n",
    "print(f\"Connected to XRPL JSON-RPC client at {api_key[0:30]}..., latest ledger index: {get_latest_ledger_index(client):,}\")"
   ]
  },
  {
   "cell_type": "markdown",
   "id": "b359f07a",
   "metadata": {},
   "source": [
    "# Markets\n",
    "\n",
    "- Choose markets to scan\n",
    "- [Explore markets in XRPScan](https://xrpscan.com/amms)"
   ]
  },
  {
   "cell_type": "code",
   "execution_count": 2,
   "id": "43e36532",
   "metadata": {},
   "outputs": [],
   "source": [
    "AMM_MARKETS = [\n",
    "    \"rLjUKpwUVmz3vCTmFkXungxwzdoyrWRsFG\",  # CRYPTO-XRP\n",
    "    \"rhWTXC2m2gGGA9WozUaoMm6kLAVPb1tcS3\",  # RLUSD-XRP\n",
    "]"
   ]
  },
  {
   "cell_type": "markdown",
   "id": "298c90be",
   "metadata": {},
   "source": [
    "## Fetch data\n",
    "\n",
    "- Fetch data for all markets and store locally cached for the future runs"
   ]
  },
  {
   "cell_type": "code",
   "execution_count": null,
   "id": "9e9f806d",
   "metadata": {},
   "outputs": [
    {
     "name": "stdout",
     "output_type": "stream",
     "text": [
      "Fetching trades for market rLjUKpwUVmz3vCTmFkXungxwzdoyrWRsFG...\n"
     ]
    },
    {
     "data": {
      "application/vnd.jupyter.widget-view+json": {
       "model_id": "b37b6d574497486f9c2234c0bc4ad85d",
       "version_major": 2,
       "version_minor": 0
      },
      "text/plain": [
       "Fetching AMM data for rLjUKpwUVmz3vCTmFkXungxwzdoyrWRsFG:   0%|          | 0.00/2.36k [00:00<?, ?ledger/s]"
      ]
     },
     "metadata": {},
     "output_type": "display_data"
    },
    {
     "name": "stdout",
     "output_type": "stream",
     "text": [
      "Fetched 1103 txs for market rLjUKpwUVmz3vCTmFkXungxwzdoyrWRsFG.\n",
      "Fetching trades for market rhWTXC2m2gGGA9WozUaoMm6kLAVPb1tcS3...\n"
     ]
    },
    {
     "data": {
      "application/vnd.jupyter.widget-view+json": {
       "model_id": "050ea2cffc4f462ea9b54172a41dd60f",
       "version_major": 2,
       "version_minor": 0
      },
      "text/plain": [
       "Fetching AMM data for rhWTXC2m2gGGA9WozUaoMm6kLAVPb1tcS3:   0%|          | 0.00/2.36k [00:00<?, ?ledger/s]"
      ]
     },
     "metadata": {},
     "output_type": "display_data"
    }
   ],
   "source": [
    "from pathlib import Path\n",
    "import pandas as pd\n",
    "from xrpl_defi.markets.amm import fetch_amm_historical_payment_and_balances, prepare_amm_data\n",
    "\n",
    "CACHE_PATH = Path.home() / \".cache\" /  \"xrpl-defi\"\n",
    "CACHE_PATH.mkdir(parents=True, exist_ok=True)\n",
    "TRADES_CACHE_FILE = CACHE_PATH / \"amm-data.parquet\"\n",
    "\n",
    "# Don't download full data (takes too long), just first trades\n",
    "# MAX_LEDGER_INDEX = 87_544_747\n",
    "MAX_LEDGER_INDEX = None  # To the tip of XRP ledger\n",
    "MIN_LEDGER_INDEX = 95_000_000  # Ledger index to start fetching data from\n",
    "\n",
    "if not TRADES_CACHE_FILE.exists():\n",
    "\n",
    "    all_markets_df = None\n",
    "\n",
    "    for market in AMM_MARKETS:\n",
    "        print(f\"Fetching trades for market {market}...\")\n",
    "        payment_tx_iter = fetch_amm_historical_payment_and_balances(\n",
    "            client=client,\n",
    "            account=market,\n",
    "            min_ledger_index=MIN_LEDGER_INDEX,\n",
    "            max_ledger_index=MAX_LEDGER_INDEX,\n",
    "        )\n",
    "        payment_txs = list(payment_tx_iter)\n",
    "        print(f\"Fetched {len(payment_txs)} txs for market {market}.\")\n",
    "\n",
    "        df = prepare_amm_data(payment_txs)\n",
    "\n",
    "        if all_markets_df is None:\n",
    "            all_markets_df = df \n",
    "        else:\n",
    "            all_markets_df = pd.concat([all_markets_df, df], ignore_index=True)\n",
    "        \n",
    "    df.to_parquet(TRADES_CACHE_FILE, compression=\"zstd\")\n",
    "    print(f\"Trades data saved to {TRADES_CACHE_FILE}, size is {TRADES_CACHE_FILE.stat().st_size / 1024 / 1024:.2f} MB.\")\n",
    "\n",
    "else:\n",
    "    # Use cached data\n",
    "    print(f\"Loading trades data from cache: {TRADES_CACHE_FILE}\")\n",
    "    df = pd.read_parquet(TRADES_CACHE_FILE)"
   ]
  },
  {
   "cell_type": "markdown",
   "id": "cc66ac3a",
   "metadata": {},
   "source": [
    "# Explore data\n",
    "\n",
    "- Show the first data entries"
   ]
  },
  {
   "cell_type": "code",
   "execution_count": null,
   "id": "c1b9617c",
   "metadata": {},
   "outputs": [],
   "source": [
    "df.head(5)"
   ]
  },
  {
   "cell_type": "markdown",
   "id": "e28e4acc",
   "metadata": {},
   "source": [
    "## Transform to OHLCV\n",
    "\n",
    "- Transform raw price events to OHLCV format\n",
    "- Resample up to 1 day time frame\n",
    "\n"
   ]
  },
  {
   "cell_type": "code",
   "execution_count": null,
   "id": "67e103a8",
   "metadata": {},
   "outputs": [],
   "source": [
    "from xrpl_defi.markets.price import calculate_quote_price, calculate_ohlc\n",
    "\n",
    "def process_market(pair_df):\n",
    "    \"\"\"Process a single market's data and return OHLC\"\"\"\n",
    "    price_df = calculate_quote_price(pair_df)\n",
    "    price_series = price_df[\"quoted_price\"]\n",
    "    ohlc = calculate_ohlc(price_series, freq=\"1D\")\n",
    "    return ohlc\n",
    "\n",
    "# Apply the function to each group and combine results\n",
    "crypto_xrp_df = process_market(df.loc[df.market == \"rLjUKpwUVmz3vCTmFkXungxwzdoyrWRsFG\"])\n",
    "xrp_rlusd_df = process_market(df.loc[df.market == \"rhWTXC2m2gGGA9WozUaoMm6kLAVPb1tcS3\"])\n",
    "\n",
    "# Create a synthetic data for CYPTO/USD price\n",
    "crypto_usd = crypto_xrp_df / xrp_rlusd_df[\"open\"]\n"
   ]
  },
  {
   "cell_type": "markdown",
   "id": "389295b6",
   "metadata": {},
   "source": [
    "## XRP/RLUSD chart\n",
    "\n",
    "- Draw the price chart"
   ]
  },
  {
   "cell_type": "code",
   "execution_count": null,
   "id": "2ff12992",
   "metadata": {},
   "outputs": [],
   "source": [
    "from xrpl_defi.charts.price_chart import visualise_ohlc\n",
    "\n",
    "\n",
    "fig = visualise_ohlc(xrp_rlusd_df, title=\"XRP / RLUSD\")\n",
    "fig.show()"
   ]
  },
  {
   "cell_type": "markdown",
   "id": "766d0616",
   "metadata": {},
   "source": [
    "## CRYPTO/XRP chart\n",
    "\n",
    "- Draw the price chart"
   ]
  },
  {
   "cell_type": "code",
   "execution_count": null,
   "id": "27a917a2",
   "metadata": {},
   "outputs": [],
   "source": [
    "fig = visualise_ohlc(crypto_xrp_df, title=\"XRP / RLUSD\")\n",
    "fig.show()"
   ]
  },
  {
   "cell_type": "markdown",
   "id": "94191d8e",
   "metadata": {},
   "source": [
    "## CRYPTO/USD chart\n",
    "\n",
    "- Draw CRYPTO/USD price chart, where we use XRP/RLUSD exchange rate as the rate for\n",
    "  XRO quote token conversion"
   ]
  },
  {
   "cell_type": "code",
   "execution_count": null,
   "id": "ac12aafd",
   "metadata": {},
   "outputs": [],
   "source": [
    "fig = visualise_ohlc(crypto_xrp_df, title=\"CRYPTO / USD\")\n",
    "fig.show()"
   ]
  }
 ],
 "metadata": {
  "kernelspec": {
   "display_name": ".venv",
   "language": "python",
   "name": "python3"
  },
  "language_info": {
   "codemirror_mode": {
    "name": "ipython",
    "version": 3
   },
   "file_extension": ".py",
   "mimetype": "text/x-python",
   "name": "python",
   "nbconvert_exporter": "python",
   "pygments_lexer": "ipython3",
   "version": "3.11.10"
  }
 },
 "nbformat": 4,
 "nbformat_minor": 5
}
